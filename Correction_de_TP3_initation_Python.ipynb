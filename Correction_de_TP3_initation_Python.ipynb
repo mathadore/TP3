{
  "nbformat": 4,
  "nbformat_minor": 0,
  "metadata": {
    "language_info": {
      "codemirror_mode": {
        "name": "ipython",
        "version": 3
      },
      "file_extension": ".py",
      "mimetype": "text/x-python",
      "name": "python",
      "nbconvert_exporter": "python",
      "pygments_lexer": "ipython3",
      "version": "3.6.9-final"
    },
    "orig_nbformat": 2,
    "kernelspec": {
      "name": "python_defaultSpec_1601307499483",
      "display_name": "Python 3.6.9 64-bit"
    },
    "colab": {
      "name": "Correction de TP3_initation_Python.ipynb",
      "provenance": [],
      "collapsed_sections": [],
      "include_colab_link": true
    }
  },
  "cells": [
    {
      "cell_type": "markdown",
      "metadata": {
        "id": "view-in-github",
        "colab_type": "text"
      },
      "source": [
        "<a href=\"https://colab.research.google.com/github/mathadore/TP3/blob/master/Correction_de_TP3_initation_Python.ipynb\" target=\"_parent\"><img src=\"https://colab.research.google.com/assets/colab-badge.svg\" alt=\"Open In Colab\"/></a>"
      ]
    },
    {
      "cell_type": "markdown",
      "metadata": {
        "id": "lLRFQIAG4HpA"
      },
      "source": [
        "# TP3 : Algorithmes - Initiation à Python\n",
        "\n",
        "## Variables et affectation\n",
        "\n",
        "Dans un programme informatique, on va avoir en permanence besoin de stocker provisoirement des valeurs. Il peut s’agir de données issues du disque dur, fournies par l’utilisateur (frappées au clavier)... Il peut aussi s’agir de résultats obtenus par le programme, intermédiaires ou définitifs. Ces données peuvent être de plusieurs types (on en reparlera) : elles peuvent être des nombres, du texte, etc. Toujours est-il que dès que l’on a besoin de stocker une information au cours d’un programme, on utilise une variable.\n",
        "\n",
        "Pour employer une image, une variable est une boîte, que le programme (l’ordinateur) va repérer par une étiquette. Pour avoir accès au contenu de la boîte, il suffit de la désigner par son étiquette.\n",
        "\n",
        "\n",
        "### Exemple 1 :\n",
        "\n",
        "On considère l’algorithme en langage *naturel* (on parle également de *pseudo-code*) suivant : \n",
        "\n",
        "    x ← 2\n",
        "    y ← 3\n",
        "    z ← x+y\n",
        "    afficher z\n",
        "\n",
        "En pseudo-code, l'instruction d'affectation se note avec le signe ← \n",
        "Ainsi :\n",
        "\n",
        "    x ← 2 \n",
        "\n",
        "signifie que x vaut 2 ou encore que x prend la valeur 2.\n",
        "\n",
        "La traduction de cet algorithme avec le langage Scracth utilisé au collège est :\n",
        "\n",
        "![scratch](https://github.com/sereina89/TP3/blob/master/assets/scracth23.png?raw=1)\n",
        "\n",
        "Quelle est la valeur affichée par cet algorithme ?"
      ]
    },
    {
      "cell_type": "markdown",
      "metadata": {
        "id": "KBtkXeoG4HpE"
      },
      "source": [
        "Réponse : 5"
      ]
    },
    {
      "cell_type": "markdown",
      "metadata": {
        "id": "I47gobQj4HpJ"
      },
      "source": [
        "Vérifier votre réponse en exécutant le programme en Python ci-dessous :"
      ]
    },
    {
      "cell_type": "code",
      "metadata": {
        "tags": [],
        "id": "6iWFUGgw4HpO",
        "outputId": "68f6cae9-5145-4e49-ee7c-45cfa39ab39e",
        "colab": {
          "base_uri": "https://localhost:8080/",
          "height": 35
        }
      },
      "source": [
        "x = 2\n",
        "y = 3\n",
        "z = x + y\n",
        "print(z)"
      ],
      "execution_count": null,
      "outputs": [
        {
          "output_type": "stream",
          "text": [
            "5\n"
          ],
          "name": "stdout"
        }
      ]
    },
    {
      "cell_type": "markdown",
      "metadata": {
        "id": "H7S2l-PM4Hpo"
      },
      "source": [
        "Comme vous l'avez remarqué, l'instruction d'affectation en Python se fait avec le signe ="
      ]
    },
    {
      "cell_type": "markdown",
      "metadata": {
        "id": "iqWthAoL4Hpr"
      },
      "source": [
        "### Exemple 2 :\n",
        "\n",
        "Quelle sera la valeur de la variable C affichée après l'exécution du code ci-dessous ?\n",
        "\n",
        "    A ← 5\n",
        "    B ← 3\n",
        "    C ← A + B\n",
        "    A ← 2\n",
        "    C ← B – A\n",
        "    Afficher C"
      ]
    },
    {
      "cell_type": "markdown",
      "metadata": {
        "id": "w6ZvTFEQ4Hpu"
      },
      "source": [
        "Réponse : 1"
      ]
    },
    {
      "cell_type": "markdown",
      "metadata": {
        "id": "yNg2nHqZ4Hpx"
      },
      "source": [
        "Vérifier votre réponse en exécutant le programme en Python ci-dessous :"
      ]
    },
    {
      "cell_type": "code",
      "metadata": {
        "tags": [],
        "id": "oP259QZV4Hp0",
        "outputId": "85b329dd-0dcd-4561-fc10-549eb23e3fcc",
        "colab": {
          "base_uri": "https://localhost:8080/",
          "height": 35
        }
      },
      "source": [
        "A = 5\n",
        "B = 3\n",
        "C = A+B\n",
        "A = 2\n",
        "C = B-A\n",
        "print(C)"
      ],
      "execution_count": null,
      "outputs": [
        {
          "output_type": "stream",
          "text": [
            "1\n"
          ],
          "name": "stdout"
        }
      ]
    },
    {
      "cell_type": "markdown",
      "metadata": {
        "id": "700E8c_d4HqB"
      },
      "source": [
        "### Exemple 3 :\n",
        "\n",
        "Quelle sera la valeur de la variable B affichée après l'exécution du code ci-dessous ?\n",
        "    \n",
        "    A ← 5\n",
        "    B ← A + 4\n",
        "    A ← A + 1\n",
        "    B ← A – 4\n",
        "    Afficher B"
      ]
    },
    {
      "cell_type": "markdown",
      "metadata": {
        "id": "saY-Nzz64HqE"
      },
      "source": [
        "Réponse : 2"
      ]
    },
    {
      "cell_type": "markdown",
      "metadata": {
        "id": "UmIUElUV4HqG"
      },
      "source": [
        "Vérifier maintenant votre réponse en complétant et exécutant le code Python ci-dessous :"
      ]
    },
    {
      "cell_type": "code",
      "metadata": {
        "id": "Qzv0g6DB4HqJ",
        "outputId": "24faf54e-d334-48a5-db02-bc54bb6dc355",
        "colab": {
          "base_uri": "https://localhost:8080/",
          "height": 35
        }
      },
      "source": [
        "A = 5\n",
        "B = A+4\n",
        "A = A+1\n",
        "B = A-4\n",
        "print(B)"
      ],
      "execution_count": null,
      "outputs": [
        {
          "output_type": "stream",
          "text": [
            "2\n"
          ],
          "name": "stdout"
        }
      ]
    },
    {
      "cell_type": "markdown",
      "metadata": {
        "id": "JsyBqp8y4HqY"
      },
      "source": [
        "## Opérations numériques\n",
        "\n",
        "Exécuter les codes ci-dessous, et comprendre le résultat affiché "
      ]
    },
    {
      "cell_type": "code",
      "metadata": {
        "id": "skc3IWbljDkW",
        "outputId": "891ade84-ef22-4de4-8519-13431de8db05",
        "colab": {
          "base_uri": "https://localhost:8080/",
          "height": 35
        }
      },
      "source": [
        "5+2*3"
      ],
      "execution_count": null,
      "outputs": [
        {
          "output_type": "execute_result",
          "data": {
            "text/plain": [
              "11"
            ]
          },
          "metadata": {
            "tags": []
          },
          "execution_count": 4
        }
      ]
    },
    {
      "cell_type": "markdown",
      "metadata": {
        "id": "tmtkFUS4jcEH"
      },
      "source": [
        "Attention la virgule est notée comme un point :"
      ]
    },
    {
      "cell_type": "code",
      "metadata": {
        "id": "LUwyNbVYjhqH",
        "outputId": "29415c65-cf00-42eb-c3c0-c2e0443196a9",
        "colab": {
          "base_uri": "https://localhost:8080/",
          "height": 35
        }
      },
      "source": [
        "1.5*2"
      ],
      "execution_count": null,
      "outputs": [
        {
          "output_type": "execute_result",
          "data": {
            "text/plain": [
              "3.0"
            ]
          },
          "metadata": {
            "tags": []
          },
          "execution_count": 5
        }
      ]
    },
    {
      "cell_type": "markdown",
      "metadata": {
        "id": "s8Cwnfc8jp3Z"
      },
      "source": [
        "On peut mêler des variables à tout cela :"
      ]
    },
    {
      "cell_type": "code",
      "metadata": {
        "id": "HzUTYNuM4Hqa",
        "outputId": "f9a0c9fa-b9a3-4dc5-b39d-cfcf94af87d6",
        "colab": {
          "base_uri": "https://localhost:8080/",
          "height": 35
        }
      },
      "source": [
        "x = 9\n",
        "x + 2"
      ],
      "execution_count": null,
      "outputs": [
        {
          "output_type": "execute_result",
          "data": {
            "text/plain": [
              "11"
            ]
          },
          "metadata": {
            "tags": []
          },
          "execution_count": 6
        }
      ]
    },
    {
      "cell_type": "code",
      "metadata": {
        "id": "-ulRlcIz4Hqo",
        "outputId": "d65dccae-0032-44ee-f2b3-fd6582894840",
        "colab": {
          "base_uri": "https://localhost:8080/",
          "height": 35
        }
      },
      "source": [
        "x * 3"
      ],
      "execution_count": null,
      "outputs": [
        {
          "output_type": "execute_result",
          "data": {
            "text/plain": [
              "27"
            ]
          },
          "metadata": {
            "tags": []
          },
          "execution_count": 7
        }
      ]
    },
    {
      "cell_type": "code",
      "metadata": {
        "id": "tG6Y03HI4Hqy",
        "outputId": "37c4543b-8a2b-4c2d-f066-0ed03796e775",
        "colab": {
          "base_uri": "https://localhost:8080/",
          "height": 35
        }
      },
      "source": [
        "y=8\n",
        "(x*10)+y"
      ],
      "execution_count": null,
      "outputs": [
        {
          "output_type": "execute_result",
          "data": {
            "text/plain": [
              "98"
            ]
          },
          "metadata": {
            "tags": []
          },
          "execution_count": 8
        }
      ]
    },
    {
      "cell_type": "markdown",
      "metadata": {
        "id": "ywi24DL54Hq9"
      },
      "source": [
        "La division se fait avec l'opérateur / "
      ]
    },
    {
      "cell_type": "code",
      "metadata": {
        "id": "bAf9fXX14Hq_",
        "outputId": "cee203a2-d31c-4840-bef2-5040befbe37d",
        "colab": {
          "base_uri": "https://localhost:8080/",
          "height": 35
        }
      },
      "source": [
        "3/4"
      ],
      "execution_count": null,
      "outputs": [
        {
          "output_type": "execute_result",
          "data": {
            "text/plain": [
              "0.75"
            ]
          },
          "metadata": {
            "tags": []
          },
          "execution_count": 9
        }
      ]
    },
    {
      "cell_type": "markdown",
      "metadata": {
        "id": "n9odw2aE4HrK"
      },
      "source": [
        " Contrairement aux opérateurs +, - et *, celui-ci renvoie systématiquement un \"float\" (disons : un nombre à virgule) et non pas un entier. Cela veut dire que ces nombres ne sont pas stockés de la même manière dans la mémoire de l'ordinateur : comparer\n"
      ]
    },
    {
      "cell_type": "code",
      "metadata": {
        "id": "Dug5IQnXhsOj",
        "outputId": "abd07c11-8b0a-4ea9-84b1-30e290eeb725",
        "colab": {
          "base_uri": "https://localhost:8080/",
          "height": 35
        }
      },
      "source": [
        "6/2"
      ],
      "execution_count": null,
      "outputs": [
        {
          "output_type": "execute_result",
          "data": {
            "text/plain": [
              "3.0"
            ]
          },
          "metadata": {
            "tags": []
          },
          "execution_count": 10
        }
      ]
    },
    {
      "cell_type": "markdown",
      "metadata": {
        "id": "C0QM9uffhxNB"
      },
      "source": [
        "avec :"
      ]
    },
    {
      "cell_type": "code",
      "metadata": {
        "id": "TPGkYiy24HrL",
        "outputId": "139e4b52-7c8a-4f8d-d9cf-80d04e2f4fbe",
        "colab": {
          "base_uri": "https://localhost:8080/",
          "height": 35
        }
      },
      "source": [
        "5-2"
      ],
      "execution_count": null,
      "outputs": [
        {
          "output_type": "execute_result",
          "data": {
            "text/plain": [
              "3"
            ]
          },
          "metadata": {
            "tags": []
          },
          "execution_count": 11
        }
      ]
    },
    {
      "cell_type": "markdown",
      "metadata": {
        "id": "Zuzna-FV4HrV"
      },
      "source": [
        "A quoi voit-on que, dans la mémoire de l'ordinateur, la réponse n'est pas stockée comme un nombre entier ?"
      ]
    },
    {
      "cell_type": "markdown",
      "metadata": {
        "id": "EY-eVAdx4HrX"
      },
      "source": [
        "Réponse : Le 0 après la virgule montre que le nombre 3.0 n'est pas stocké comme un entier dans la mémoire de l'ordinateur."
      ]
    },
    {
      "cell_type": "markdown",
      "metadata": {
        "id": "S15h8gY14HrZ"
      },
      "source": [
        "L'opérateur puissance utilise les symboles ** :"
      ]
    },
    {
      "cell_type": "code",
      "metadata": {
        "id": "LwE9E7Ai4Hra"
      },
      "source": [
        "5**2"
      ],
      "execution_count": null,
      "outputs": []
    },
    {
      "cell_type": "markdown",
      "metadata": {
        "id": "qZfKSa-x4Hrk"
      },
      "source": [
        "## Instructions conditionnelles\n",
        "\n",
        "Vous avez déjà utilisé des instructions conditionnelles (l'équivalent du \"si... alors....\") avec le logiciel Scratch.\n",
        "\n",
        "![Si alors en Scratch](https://github.com/sereina89/TP3/blob/master/assets/sialors.png?raw=1)\n",
        "\n",
        "La syntaxe en Python est la suivante :\n",
        "\n",
        "    if test:\n",
        "        bloc d'instructions\t\n",
        "    suite du programme\n",
        "\n",
        "Si test est vrai (True) alors le bloc d'instructions est exécuté.\n",
        "Si test est faux (False) on passe directement à la suite du programme.\n",
        "\n",
        "Attention aux décalages (indentations) et à ne pas oublier le symbole :\n",
        "\n",
        "### Exemple 4 :\n",
        "\n",
        "La première ligne de l'algorithme suivant permet de stocker dans la variable *note* un nombre entier saisi par l'utilisateur.\n",
        "\n",
        "Que peut bien faire ce programme ?\n",
        "\n",
        "    "
      ]
    },
    {
      "cell_type": "code",
      "metadata": {
        "id": "r7Jh5ggt4Hrm",
        "outputId": "dae4a5ed-9658-473c-8516-60fdbc884843",
        "colab": {
          "base_uri": "https://localhost:8080/",
          "height": 53
        }
      },
      "source": [
        "note = float(input(\"Note sur 20 : \"))\n",
        "if note >= 10.0:\n",
        "  print(\"J'ai la moyenne\")"
      ],
      "execution_count": null,
      "outputs": [
        {
          "output_type": "stream",
          "text": [
            "Note sur 20 : 14\n",
            "J'ai la moyenne\n"
          ],
          "name": "stdout"
        }
      ]
    },
    {
      "cell_type": "markdown",
      "metadata": {
        "id": "__DCEiJg4Hrw"
      },
      "source": [
        "Vous avez remarqué que ce programme est frustant : il ne fait rien si on n'a pas la moyenne !\n",
        "\n",
        "On peut ajouter un bloc d'instruction à réaliser quand le test est faux :\n",
        "\n",
        "![Si alors sinon en Scratch](https://github.com/sereina89/TP3/blob/master/assets/sialorssinon.png?raw=1)\n",
        "\n",
        "La syntaxe en Python est la suivante :\n",
        "\n",
        "    if test:\t\n",
        "        bloc d'instructions\t\t\n",
        "    else:                  \n",
        "        à faire si le test est faux\n",
        "    suite du programme\n",
        "\n",
        "Si test est vrai (True) alors le bloc d'instructions est exécuté.\n",
        "Si test est faux (False) on passe directement à la suite du programme.\n",
        "\n",
        "Attention aux décalages (indentations) et à ne pas oublier les symboles :\n",
        "\n",
        "### Exemple 5 :\n",
        "\n",
        "Nous pouvons maintenant améliorer le programme précédent :\n"
      ]
    },
    {
      "cell_type": "code",
      "metadata": {
        "tags": [],
        "id": "BU_F3kAr4Hrz",
        "outputId": "f452bb9d-088e-47fd-e8d0-82bb98f22379",
        "colab": {
          "base_uri": "https://localhost:8080/",
          "height": 53
        }
      },
      "source": [
        "note = float(input(\"Note sur 20 : \"))\n",
        "if note >= 10.0:\n",
        "    print(\"J'ai la moyenne\")\n",
        "else :\n",
        "    print(\"Je n'ai pas la moyenne\")"
      ],
      "execution_count": null,
      "outputs": [
        {
          "output_type": "stream",
          "text": [
            "Note sur 20 : 8\n",
            "Je n'ai pas la moyenne\n"
          ],
          "name": "stdout"
        }
      ]
    },
    {
      "cell_type": "markdown",
      "metadata": {
        "id": "L2nfL-704Hr6"
      },
      "source": [
        "### Exemple 6 :\n",
        "\n",
        "Voici un pseudo code donnant l'état de l'eau suivant sa température :\n",
        "\n",
        "    Ecrire \"Entrez la température de l’eau :\"\n",
        "    Lire Temp\n",
        "    Si Temp < 0 Alors\n",
        "        Ecrire \"C’est de la glace\"\n",
        "    Sinon\n",
        "        Si Temp < 100 Alors\n",
        "        Ecrire \"C’est du liquide\"\n",
        "        Sinon\n",
        "            Ecrire \"C’est de la vapeur\"\n",
        "        Fin si\n",
        "    Fin si\n",
        "\n",
        "Le programme en Python est le suivant :"
      ]
    },
    {
      "cell_type": "code",
      "metadata": {
        "tags": [],
        "id": "Q_uj8-AS4Hr8",
        "outputId": "bd4227e5-3842-4375-ecb4-48df5c5c9738",
        "colab": {
          "base_uri": "https://localhost:8080/",
          "height": 53
        }
      },
      "source": [
        "temp = int(input(\"Entrez la température de l'eau\"))\n",
        "if temp<0 :\n",
        "    print(\"c'est de la glace\")\n",
        "else :\n",
        "    if temp<100 :\n",
        "        print(\"c'est du liquide\")\n",
        "    else :\n",
        "        print(\"c'est de la vapeur\")"
      ],
      "execution_count": null,
      "outputs": [
        {
          "output_type": "stream",
          "text": [
            "Entrez la température de l'eau-15\n",
            "c'est de la glace\n"
          ],
          "name": "stdout"
        }
      ]
    },
    {
      "cell_type": "markdown",
      "metadata": {
        "id": "zsv3SK0V4HsH"
      },
      "source": [
        "On peut également écrire l'algorithme sous cette forme :\n",
        "\n",
        "    Ecrire \"Entrez la température de l’eau :\"\n",
        "    Lire Temp\n",
        "    Si Temp < 0 Alors\n",
        "        Ecrire \"C’est de la glace\"\n",
        "    SinonSi Temp < 100 Alors\n",
        "        Ecrire \"C’est du liquide\"\n",
        "    Sinon\n",
        "        Ecrire \"C’est de la vapeur\"\n",
        "    Fin si\n",
        "\n",
        "Ce qui donne en Python le programme ci-dessous :"
      ]
    },
    {
      "cell_type": "code",
      "metadata": {
        "tags": [],
        "id": "yNKvch7a4HsJ",
        "outputId": "04b0a4ed-d97a-455c-8aaa-3d6cba525178",
        "colab": {
          "base_uri": "https://localhost:8080/",
          "height": 53
        }
      },
      "source": [
        "temp = int(input(\"Entrez la température de l'eau\"))\n",
        "if temp<0 :\n",
        "    print(\"c'est de la glace\")\n",
        "elif temp<100 :\n",
        "    print(\"c'est du liquide\")\n",
        "else :\n",
        "    print(\"c'est de la vapeur\")"
      ],
      "execution_count": null,
      "outputs": [
        {
          "output_type": "stream",
          "text": [
            "Entrez la température de l'eau35\n",
            "c'est du liquide\n"
          ],
          "name": "stdout"
        }
      ]
    },
    {
      "cell_type": "markdown",
      "metadata": {
        "id": "UmN23_RD4Hsk"
      },
      "source": [
        "*elif* est une contraction de else if (Sinon si)\n",
        "\n",
        "### Exemple 7\n",
        "\n",
        "Une gérante de cantine demande combien de tickets le client veut acheter. Chaque ticket coûte 3,40 euros si le client a 12 ans ou moins de 12 ans, 4,20 euros si  le client a entre 13 et 17 ans, et 6,50 euros si le client a 18 ans ou plus. \n",
        "\n",
        "**Complétez** l'algorithme qui demande le nombre de tickets et l'âge à l’utilisateur, et l’informe ensuite du montant à payer"
      ]
    },
    {
      "cell_type": "code",
      "metadata": {
        "id": "8gug-KaS4Hsm",
        "outputId": "94cf0fe0-b9de-4dd5-dbbb-57fa37689f89",
        "colab": {
          "base_uri": "https://localhost:8080/",
          "height": 70
        }
      },
      "source": [
        "nombre = int(input(\"Combien de tickets voulez vous ?\"))\n",
        "age = int(input(\"Quel est votre âge ?\"))\n",
        "if age<13 :\n",
        "  print(\"Le prix à payer est \",3.4*nombre,\" euros\")\n",
        "elif age<18:\n",
        "  print(\"Le prix à payer est \",4.2*nombre,\" euros\")\n",
        "else:\n",
        "  print(\"Le prix à payer est \",6.5*nombre,\" euros\")\n"
      ],
      "execution_count": null,
      "outputs": [
        {
          "output_type": "stream",
          "text": [
            "Combien de tickets voulez vous ?10\n",
            "Quel est votre âge ?15\n",
            "Le prix à payer est  42.0  euros\n"
          ],
          "name": "stdout"
        }
      ]
    },
    {
      "cell_type": "markdown",
      "metadata": {
        "id": "mYwl1DQL4Hsu"
      },
      "source": [
        "Tester votre algorithme"
      ]
    },
    {
      "cell_type": "markdown",
      "metadata": {
        "id": "SuGNLMMN4Hsw"
      },
      "source": [
        "## Fonctions\n",
        "\n",
        "En programmation, les fonctions sont très utiles pour réaliser plusieurs fois la même opération au sein d'un programme. Elles rendent également le programme plus lisible et plus clair en le fractionnant en blocs logiques.\n",
        "\n",
        "Pour définir une fonction, Python utilise le mot-clé *def*. Si on souhaite que la fonction renvoie quelque chose, il faut utiliser le mot-clé *return*.\n",
        "\n",
        "### Exemple 8 :\n",
        "\n",
        "Que peut bien faire la fonction suivante ?\n"
      ]
    },
    {
      "cell_type": "code",
      "metadata": {
        "tags": [],
        "id": "rjaE5Iuc4Hsx",
        "outputId": "c3a19b63-cd12-4a62-e55f-35d3ba057f08",
        "colab": {
          "base_uri": "https://localhost:8080/",
          "height": 35
        }
      },
      "source": [
        "def carre(x):\n",
        "    return x**2\n",
        "\n",
        "print(carre(3))"
      ],
      "execution_count": null,
      "outputs": [
        {
          "output_type": "stream",
          "text": [
            "9\n"
          ],
          "name": "stdout"
        }
      ]
    },
    {
      "cell_type": "markdown",
      "metadata": {
        "id": "ub2y4Kp34Hs2"
      },
      "source": [
        "Vous pouvez tester cette fonction avec d'autres valeurs :"
      ]
    },
    {
      "cell_type": "code",
      "metadata": {
        "id": "63eTiCaW4Hs4",
        "outputId": "11c1b4ff-6759-4b61-db5d-b60d6937272f",
        "colab": {
          "base_uri": "https://localhost:8080/",
          "height": 35
        }
      },
      "source": [
        "carre(5)"
      ],
      "execution_count": null,
      "outputs": [
        {
          "output_type": "execute_result",
          "data": {
            "text/plain": [
              "25"
            ]
          },
          "metadata": {
            "tags": []
          },
          "execution_count": 18
        }
      ]
    },
    {
      "cell_type": "code",
      "metadata": {
        "id": "4rC136aF4HtA",
        "outputId": "52af3f51-1499-402c-ae50-cd5c16138c00",
        "colab": {
          "base_uri": "https://localhost:8080/",
          "height": 35
        }
      },
      "source": [
        "carre(7)"
      ],
      "execution_count": null,
      "outputs": [
        {
          "output_type": "execute_result",
          "data": {
            "text/plain": [
              "49"
            ]
          },
          "metadata": {
            "tags": []
          },
          "execution_count": 19
        }
      ]
    },
    {
      "cell_type": "markdown",
      "metadata": {
        "id": "MONf6v7H4HtH"
      },
      "source": [
        "Une fonction peut avoir plusieurs arguments. Par exemple :\n",
        "\n",
        "### Exemple 9"
      ]
    },
    {
      "cell_type": "code",
      "metadata": {
        "id": "k5TtXbVn4HtI",
        "outputId": "d3c1997b-b685-4ddd-9a2a-3c442afc9a4f",
        "colab": {
          "base_uri": "https://localhost:8080/",
          "height": 35
        }
      },
      "source": [
        "def plusgrand(x,y):\n",
        "    if x>y:\n",
        "        return x\n",
        "    else :\n",
        "        return y\n",
        "\n",
        "print(plusgrand(2,3))"
      ],
      "execution_count": null,
      "outputs": [
        {
          "output_type": "stream",
          "text": [
            "3\n"
          ],
          "name": "stdout"
        }
      ]
    },
    {
      "cell_type": "markdown",
      "metadata": {
        "id": "2IFz6RPNcuA0"
      },
      "source": [
        "On peut tester avec d'autres valeurs :"
      ]
    },
    {
      "cell_type": "code",
      "metadata": {
        "id": "AtZdA11X4HtW",
        "outputId": "c5b85e58-b9e7-4c13-e82d-17ea64144392",
        "colab": {
          "base_uri": "https://localhost:8080/",
          "height": 35
        }
      },
      "source": [
        "plusgrand(5,1)"
      ],
      "execution_count": null,
      "outputs": [
        {
          "output_type": "execute_result",
          "data": {
            "text/plain": [
              "5"
            ]
          },
          "metadata": {
            "tags": []
          },
          "execution_count": 21
        }
      ]
    },
    {
      "cell_type": "markdown",
      "metadata": {
        "id": "Cw_o3LSP4Ht9"
      },
      "source": [
        "### Exemple 10\n",
        "\n",
        "L'IMC (Indice de masse corporelle) permet de determiner la corpulence d'une personne. Il se calcule en fonction de la taille (en m) et du poids (en kg) d'une personne par la formule :\n",
        "$$IMC=\\frac{\\text{poids}}{\\text{taille}^2}$$\n",
        "\n",
        "Par exemple, quel est l'IMC d'une personne mesurant 1,70 m pour un poids de 60 kg ?"
      ]
    },
    {
      "cell_type": "code",
      "metadata": {
        "id": "Q6VcHwfsc5Ix",
        "outputId": "b1a76745-9c32-4650-8c49-5be914b1b2b4",
        "colab": {
          "base_uri": "https://localhost:8080/",
          "height": 35
        }
      },
      "source": [
        "60/1.7**2"
      ],
      "execution_count": null,
      "outputs": [
        {
          "output_type": "execute_result",
          "data": {
            "text/plain": [
              "20.761245674740486"
            ]
          },
          "metadata": {
            "tags": []
          },
          "execution_count": 22
        }
      ]
    },
    {
      "cell_type": "markdown",
      "metadata": {
        "id": "vTdouNmn4Ht_"
      },
      "source": [
        "**Compléter** l'algorithme suivant pour qu'il renvoie l'IMC d'une personne en fonction de sa taille et de son poids. On rappelle que le carré se calcule avec **2"
      ]
    },
    {
      "cell_type": "code",
      "metadata": {
        "id": "9phX5JC14HuA"
      },
      "source": [
        "def IMC(poids,taille):\n",
        "  return poids/taille**2"
      ],
      "execution_count": null,
      "outputs": []
    },
    {
      "cell_type": "markdown",
      "metadata": {
        "id": "h2ir6IrB4HuF"
      },
      "source": [
        "Tester votre algorithme pour une personne mesurant 1,70 m pour un poids de 60 kg"
      ]
    },
    {
      "cell_type": "code",
      "metadata": {
        "id": "NfAbwrG9cMPG",
        "outputId": "1fafdd47-81b4-4614-efc0-e8e617bd67b4",
        "colab": {
          "base_uri": "https://localhost:8080/",
          "height": 35
        }
      },
      "source": [
        "IMC(60,1.70)"
      ],
      "execution_count": null,
      "outputs": [
        {
          "output_type": "execute_result",
          "data": {
            "text/plain": [
              "20.761245674740486"
            ]
          },
          "metadata": {
            "tags": []
          },
          "execution_count": 24
        }
      ]
    },
    {
      "cell_type": "markdown",
      "metadata": {
        "id": "jzMTd2J14Hte"
      },
      "source": [
        "### Exemple 11\n",
        "\n",
        "Un magasin de photocopies propose un tarif dégressif (c'est à dire que plus on commande de photocopies, plus le prix unitaire est faible). \n",
        "Les 20 premières photocopies sont facturées à 10 centimes et les suivantes\n",
        "à 8 centimes."
      ]
    },
    {
      "cell_type": "markdown",
      "metadata": {
        "id": "HLBDD1zg4Htf"
      },
      "source": [
        "Calculer \"à la main\" le coût en euros de 15 photocopies."
      ]
    },
    {
      "cell_type": "markdown",
      "metadata": {
        "id": "7Cp_cn6A4Hti"
      },
      "source": [
        "Réponse : 15x0,1=1,50 euros"
      ]
    },
    {
      "cell_type": "markdown",
      "metadata": {
        "id": "U_90LZ594Htk"
      },
      "source": [
        "Calculer \"à la main\" le coût en euros de 30 photocopies."
      ]
    },
    {
      "cell_type": "markdown",
      "metadata": {
        "id": "b-vMe5pB4Htm"
      },
      "source": [
        "Réponse : 20x0,1+10x0,08=2,8 euros"
      ]
    },
    {
      "cell_type": "markdown",
      "metadata": {
        "id": "1ayXxasw4Htn"
      },
      "source": [
        "**Compléter** l'algorithme suivant qui permet d'afficher le prix de *n* photocopies"
      ]
    },
    {
      "cell_type": "code",
      "metadata": {
        "id": "lbFEJO374Hto"
      },
      "source": [
        "def tarif(n):\n",
        "  if n<20:\n",
        "    return n*0.1\n",
        "  else:\n",
        "    return 2+(n-20)*0.08\n",
        "  "
      ],
      "execution_count": null,
      "outputs": []
    },
    {
      "cell_type": "markdown",
      "metadata": {
        "id": "t2X1cNbK4Htu"
      },
      "source": [
        "Tester votre algorithme avec 15"
      ]
    },
    {
      "cell_type": "code",
      "metadata": {
        "id": "hKQEIYW64Htv",
        "outputId": "d7eeaefc-b860-4f1d-9c92-a65919a69f7a",
        "colab": {
          "base_uri": "https://localhost:8080/",
          "height": 35
        }
      },
      "source": [
        "tarif(15)\n"
      ],
      "execution_count": null,
      "outputs": [
        {
          "output_type": "execute_result",
          "data": {
            "text/plain": [
              "1.5"
            ]
          },
          "metadata": {
            "tags": []
          },
          "execution_count": 26
        }
      ]
    },
    {
      "cell_type": "markdown",
      "metadata": {
        "id": "fOlKEqLR4Ht4"
      },
      "source": [
        "Tester votre algorithme avec 30"
      ]
    },
    {
      "cell_type": "code",
      "metadata": {
        "id": "w692vGAT4Ht5",
        "outputId": "58c9fc3f-4e30-471b-bdf8-47af4e446c43",
        "colab": {
          "base_uri": "https://localhost:8080/",
          "height": 35
        }
      },
      "source": [
        "tarif(30)"
      ],
      "execution_count": null,
      "outputs": [
        {
          "output_type": "execute_result",
          "data": {
            "text/plain": [
              "2.8"
            ]
          },
          "metadata": {
            "tags": []
          },
          "execution_count": 27
        }
      ]
    }
  ]
}